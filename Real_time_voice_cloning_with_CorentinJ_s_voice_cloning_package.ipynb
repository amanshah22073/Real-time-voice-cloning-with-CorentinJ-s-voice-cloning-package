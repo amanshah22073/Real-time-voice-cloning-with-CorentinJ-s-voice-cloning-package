{
  "nbformat": 4,
  "nbformat_minor": 0,
  "metadata": {
    "colab": {
      "provenance": [],
      "mount_file_id": "1zOmW1YoJCUux3BgYjE5_5H4uk1MABVhZ",
      "authorship_tag": "ABX9TyNLr9AqROM7g03LmBWftZxV",
      "include_colab_link": true
    },
    "kernelspec": {
      "name": "python3",
      "display_name": "Python 3"
    },
    "language_info": {
      "name": "python"
    },
    "accelerator": "GPU",
    "gpuClass": "standard"
  },
  "cells": [
    {
      "cell_type": "markdown",
      "metadata": {
        "id": "view-in-github",
        "colab_type": "text"
      },
      "source": [
        "<a href=\"https://colab.research.google.com/github/amanshah22073/Real-time-voice-cloning-with-CorentinJ-s-voice-cloning-package/blob/main/Real_time_voice_cloning_with_CorentinJ_s_voice_cloning_package.ipynb\" target=\"_parent\"><img src=\"https://colab.research.google.com/assets/colab-badge.svg\" alt=\"Open In Colab\"/></a>"
      ]
    },
    {
      "cell_type": "code",
      "execution_count": null,
      "metadata": {
        "colab": {
          "base_uri": "https://localhost:8080/"
        },
        "id": "ZVCLAqPo99c6",
        "outputId": "a8ff59b4-26e7-408c-a61f-8d8832d7d8b9"
      },
      "outputs": [
        {
          "output_type": "stream",
          "name": "stdout",
          "text": [
            "Cloning into 'Real-Time-Voice-Cloning'...\n",
            "remote: Enumerating objects: 2668, done.\u001b[K\n",
            "remote: Total 2668 (delta 0), reused 0 (delta 0), pack-reused 2668\u001b[K\n",
            "Receiving objects: 100% (2668/2668), 361.01 MiB | 29.57 MiB/s, done.\n",
            "Resolving deltas: 100% (1436/1436), done.\n"
          ]
        }
      ],
      "source": [
        "!git clone https://github.com/CorentinJ/Real-Time-Voice-Cloning"
      ]
    },
    {
      "cell_type": "code",
      "source": [
        "!git clone https://git.ffmpeg.org/ffmpeg.git ffmpeg\n"
      ],
      "metadata": {
        "colab": {
          "base_uri": "https://localhost:8080/"
        },
        "id": "ROTj67xyCghA",
        "outputId": "0916ed60-eb49-4861-ecf0-517d3a3f660a"
      },
      "execution_count": null,
      "outputs": [
        {
          "output_type": "stream",
          "name": "stdout",
          "text": [
            "Cloning into 'ffmpeg'...\n",
            "remote: Enumerating objects: 21429, done.\u001b[K\n",
            "remote: Counting objects: 100% (21429/21429), done.\u001b[K\n",
            "remote: Compressing objects: 100% (11242/11242), done.\u001b[K\n",
            "remote: Total 681982 (delta 16271), reused 13263 (delta 10137)\u001b[K\n",
            "Receiving objects: 100% (681982/681982), 168.64 MiB | 23.58 MiB/s, done.\n",
            "Resolving deltas: 100% (550155/550155), done.\n"
          ]
        }
      ]
    },
    {
      "cell_type": "code",
      "source": [
        "!pip install torch torchvision torchaudio --extra-index-url https://download.pytorch.org/whl/cu117"
      ],
      "metadata": {
        "colab": {
          "base_uri": "https://localhost:8080/"
        },
        "id": "3jXgOaE1CjBm",
        "outputId": "0df94a63-ee81-4f41-d6a1-910d45d16ca3"
      },
      "execution_count": null,
      "outputs": [
        {
          "output_type": "stream",
          "name": "stdout",
          "text": [
            "Looking in indexes: https://pypi.org/simple, https://us-python.pkg.dev/colab-wheels/public/simple/, https://download.pytorch.org/whl/cu117\n",
            "Requirement already satisfied: torch in /usr/local/lib/python3.8/dist-packages (1.12.1+cu113)\n",
            "Requirement already satisfied: torchvision in /usr/local/lib/python3.8/dist-packages (0.13.1+cu113)\n",
            "Requirement already satisfied: torchaudio in /usr/local/lib/python3.8/dist-packages (0.12.1+cu113)\n",
            "Requirement already satisfied: typing-extensions in /usr/local/lib/python3.8/dist-packages (from torch) (4.1.1)\n",
            "Requirement already satisfied: requests in /usr/local/lib/python3.8/dist-packages (from torchvision) (2.23.0)\n",
            "Requirement already satisfied: numpy in /usr/local/lib/python3.8/dist-packages (from torchvision) (1.21.6)\n",
            "Requirement already satisfied: pillow!=8.3.*,>=5.3.0 in /usr/local/lib/python3.8/dist-packages (from torchvision) (7.1.2)\n",
            "Requirement already satisfied: certifi>=2017.4.17 in /usr/local/lib/python3.8/dist-packages (from requests->torchvision) (2022.9.24)\n",
            "Requirement already satisfied: idna<3,>=2.5 in /usr/local/lib/python3.8/dist-packages (from requests->torchvision) (2.10)\n",
            "Requirement already satisfied: urllib3!=1.25.0,!=1.25.1,<1.26,>=1.21.1 in /usr/local/lib/python3.8/dist-packages (from requests->torchvision) (1.24.3)\n",
            "Requirement already satisfied: chardet<4,>=3.0.2 in /usr/local/lib/python3.8/dist-packages (from requests->torchvision) (3.0.4)\n"
          ]
        }
      ]
    },
    {
      "cell_type": "code",
      "source": [
        "pip install -r /content/Real-Time-Voice-Cloning/requirements.txt"
      ],
      "metadata": {
        "colab": {
          "base_uri": "https://localhost:8080/",
          "height": 1000
        },
        "id": "AMuXxEeJDp28",
        "outputId": "b23ae423-04bf-4a7b-ddca-89d355963e12"
      },
      "execution_count": null,
      "outputs": [
        {
          "output_type": "stream",
          "name": "stdout",
          "text": [
            "Looking in indexes: https://pypi.org/simple, https://us-python.pkg.dev/colab-wheels/public/simple/\n",
            "Collecting inflect==5.3.0\n",
            "  Downloading inflect-5.3.0-py3-none-any.whl (32 kB)\n",
            "Requirement already satisfied: librosa==0.8.1 in /usr/local/lib/python3.8/dist-packages (from -r /content/Real-Time-Voice-Cloning/requirements.txt (line 2)) (0.8.1)\n",
            "Collecting matplotlib==3.5.1\n",
            "  Downloading matplotlib-3.5.1-cp38-cp38-manylinux_2_5_x86_64.manylinux1_x86_64.whl (11.3 MB)\n",
            "\u001b[K     |████████████████████████████████| 11.3 MB 21.7 MB/s \n",
            "\u001b[?25hCollecting numpy==1.20.3\n",
            "  Downloading numpy-1.20.3-cp38-cp38-manylinux_2_12_x86_64.manylinux2010_x86_64.whl (15.4 MB)\n",
            "\u001b[K     |████████████████████████████████| 15.4 MB 51.8 MB/s \n",
            "\u001b[?25hCollecting Pillow==8.4.0\n",
            "  Downloading Pillow-8.4.0-cp38-cp38-manylinux_2_17_x86_64.manylinux2014_x86_64.whl (3.1 MB)\n",
            "\u001b[K     |████████████████████████████████| 3.1 MB 19.7 MB/s \n",
            "\u001b[?25hCollecting PyQt5==5.15.6\n",
            "  Downloading PyQt5-5.15.6-cp36-abi3-manylinux1_x86_64.whl (8.3 MB)\n",
            "\u001b[K     |████████████████████████████████| 8.3 MB 55.8 MB/s \n",
            "\u001b[?25hRequirement already satisfied: scikit-learn==1.0.2 in /usr/local/lib/python3.8/dist-packages (from -r /content/Real-Time-Voice-Cloning/requirements.txt (line 7)) (1.0.2)\n",
            "Requirement already satisfied: scipy==1.7.3 in /usr/local/lib/python3.8/dist-packages (from -r /content/Real-Time-Voice-Cloning/requirements.txt (line 8)) (1.7.3)\n",
            "Collecting sounddevice==0.4.3\n",
            "  Downloading sounddevice-0.4.3-py3-none-any.whl (31 kB)\n",
            "Collecting SoundFile==0.10.3.post1\n",
            "  Downloading SoundFile-0.10.3.post1-py2.py3-none-any.whl (21 kB)\n",
            "Collecting tqdm==4.62.3\n",
            "  Downloading tqdm-4.62.3-py2.py3-none-any.whl (76 kB)\n",
            "\u001b[K     |████████████████████████████████| 76 kB 5.1 MB/s \n",
            "\u001b[?25hCollecting umap-learn==0.5.2\n",
            "  Downloading umap-learn-0.5.2.tar.gz (86 kB)\n",
            "\u001b[K     |████████████████████████████████| 86 kB 7.0 MB/s \n",
            "\u001b[?25hCollecting Unidecode==1.3.2\n",
            "  Downloading Unidecode-1.3.2-py3-none-any.whl (235 kB)\n",
            "\u001b[K     |████████████████████████████████| 235 kB 74.8 MB/s \n",
            "\u001b[?25hCollecting urllib3==1.26.7\n",
            "  Downloading urllib3-1.26.7-py2.py3-none-any.whl (138 kB)\n",
            "\u001b[K     |████████████████████████████████| 138 kB 72.3 MB/s \n",
            "\u001b[?25hCollecting visdom==0.1.8.9\n",
            "  Downloading visdom-0.1.8.9.tar.gz (676 kB)\n",
            "\u001b[K     |████████████████████████████████| 676 kB 80.6 MB/s \n",
            "\u001b[?25hCollecting webrtcvad==2.0.10\n",
            "  Downloading webrtcvad-2.0.10.tar.gz (66 kB)\n",
            "\u001b[K     |████████████████████████████████| 66 kB 5.5 MB/s \n",
            "\u001b[?25hRequirement already satisfied: numba>=0.43.0 in /usr/local/lib/python3.8/dist-packages (from librosa==0.8.1->-r /content/Real-Time-Voice-Cloning/requirements.txt (line 2)) (0.56.4)\n",
            "Requirement already satisfied: audioread>=2.0.0 in /usr/local/lib/python3.8/dist-packages (from librosa==0.8.1->-r /content/Real-Time-Voice-Cloning/requirements.txt (line 2)) (3.0.0)\n",
            "Requirement already satisfied: joblib>=0.14 in /usr/local/lib/python3.8/dist-packages (from librosa==0.8.1->-r /content/Real-Time-Voice-Cloning/requirements.txt (line 2)) (1.2.0)\n",
            "Requirement already satisfied: packaging>=20.0 in /usr/local/lib/python3.8/dist-packages (from librosa==0.8.1->-r /content/Real-Time-Voice-Cloning/requirements.txt (line 2)) (21.3)\n",
            "Requirement already satisfied: resampy>=0.2.2 in /usr/local/lib/python3.8/dist-packages (from librosa==0.8.1->-r /content/Real-Time-Voice-Cloning/requirements.txt (line 2)) (0.4.2)\n",
            "Requirement already satisfied: pooch>=1.0 in /usr/local/lib/python3.8/dist-packages (from librosa==0.8.1->-r /content/Real-Time-Voice-Cloning/requirements.txt (line 2)) (1.6.0)\n",
            "Requirement already satisfied: decorator>=3.0.0 in /usr/local/lib/python3.8/dist-packages (from librosa==0.8.1->-r /content/Real-Time-Voice-Cloning/requirements.txt (line 2)) (4.4.2)\n",
            "Requirement already satisfied: python-dateutil>=2.7 in /usr/local/lib/python3.8/dist-packages (from matplotlib==3.5.1->-r /content/Real-Time-Voice-Cloning/requirements.txt (line 3)) (2.8.2)\n",
            "Collecting fonttools>=4.22.0\n",
            "  Downloading fonttools-4.38.0-py3-none-any.whl (965 kB)\n",
            "\u001b[K     |████████████████████████████████| 965 kB 63.0 MB/s \n",
            "\u001b[?25hRequirement already satisfied: pyparsing>=2.2.1 in /usr/local/lib/python3.8/dist-packages (from matplotlib==3.5.1->-r /content/Real-Time-Voice-Cloning/requirements.txt (line 3)) (3.0.9)\n",
            "Requirement already satisfied: kiwisolver>=1.0.1 in /usr/local/lib/python3.8/dist-packages (from matplotlib==3.5.1->-r /content/Real-Time-Voice-Cloning/requirements.txt (line 3)) (1.4.4)\n",
            "Requirement already satisfied: cycler>=0.10 in /usr/local/lib/python3.8/dist-packages (from matplotlib==3.5.1->-r /content/Real-Time-Voice-Cloning/requirements.txt (line 3)) (0.11.0)\n",
            "Collecting PyQt5-Qt5>=5.15.2\n",
            "  Downloading PyQt5_Qt5-5.15.2-py3-none-manylinux2014_x86_64.whl (59.9 MB)\n",
            "\u001b[K     |████████████████████████████████| 59.9 MB 1.1 MB/s \n",
            "\u001b[?25hCollecting PyQt5-sip<13,>=12.8\n",
            "  Downloading PyQt5_sip-12.11.0-cp38-cp38-manylinux1_x86_64.whl (361 kB)\n",
            "\u001b[K     |████████████████████████████████| 361 kB 76.9 MB/s \n",
            "\u001b[?25hRequirement already satisfied: threadpoolctl>=2.0.0 in /usr/local/lib/python3.8/dist-packages (from scikit-learn==1.0.2->-r /content/Real-Time-Voice-Cloning/requirements.txt (line 7)) (3.1.0)\n",
            "Requirement already satisfied: CFFI>=1.0 in /usr/local/lib/python3.8/dist-packages (from sounddevice==0.4.3->-r /content/Real-Time-Voice-Cloning/requirements.txt (line 9)) (1.15.1)\n",
            "Collecting pynndescent>=0.5\n",
            "  Downloading pynndescent-0.5.8.tar.gz (1.1 MB)\n",
            "\u001b[K     |████████████████████████████████| 1.1 MB 63.5 MB/s \n",
            "\u001b[?25hRequirement already satisfied: requests in /usr/local/lib/python3.8/dist-packages (from visdom==0.1.8.9->-r /content/Real-Time-Voice-Cloning/requirements.txt (line 15)) (2.23.0)\n",
            "Requirement already satisfied: tornado in /usr/local/lib/python3.8/dist-packages (from visdom==0.1.8.9->-r /content/Real-Time-Voice-Cloning/requirements.txt (line 15)) (6.0.4)\n",
            "Requirement already satisfied: pyzmq in /usr/local/lib/python3.8/dist-packages (from visdom==0.1.8.9->-r /content/Real-Time-Voice-Cloning/requirements.txt (line 15)) (23.2.1)\n",
            "Requirement already satisfied: six in /usr/local/lib/python3.8/dist-packages (from visdom==0.1.8.9->-r /content/Real-Time-Voice-Cloning/requirements.txt (line 15)) (1.15.0)\n",
            "Collecting jsonpatch\n",
            "  Downloading jsonpatch-1.32-py2.py3-none-any.whl (12 kB)\n",
            "Collecting torchfile\n",
            "  Downloading torchfile-0.1.0.tar.gz (5.2 kB)\n",
            "Collecting websocket-client\n",
            "  Downloading websocket_client-1.4.2-py3-none-any.whl (55 kB)\n",
            "\u001b[K     |████████████████████████████████| 55 kB 4.0 MB/s \n",
            "\u001b[?25hRequirement already satisfied: pycparser in /usr/local/lib/python3.8/dist-packages (from CFFI>=1.0->sounddevice==0.4.3->-r /content/Real-Time-Voice-Cloning/requirements.txt (line 9)) (2.21)\n",
            "Requirement already satisfied: llvmlite<0.40,>=0.39.0dev0 in /usr/local/lib/python3.8/dist-packages (from numba>=0.43.0->librosa==0.8.1->-r /content/Real-Time-Voice-Cloning/requirements.txt (line 2)) (0.39.1)\n",
            "Requirement already satisfied: setuptools in /usr/local/lib/python3.8/dist-packages (from numba>=0.43.0->librosa==0.8.1->-r /content/Real-Time-Voice-Cloning/requirements.txt (line 2)) (57.4.0)\n",
            "Requirement already satisfied: importlib-metadata in /usr/local/lib/python3.8/dist-packages (from numba>=0.43.0->librosa==0.8.1->-r /content/Real-Time-Voice-Cloning/requirements.txt (line 2)) (4.13.0)\n",
            "Requirement already satisfied: appdirs>=1.3.0 in /usr/local/lib/python3.8/dist-packages (from pooch>=1.0->librosa==0.8.1->-r /content/Real-Time-Voice-Cloning/requirements.txt (line 2)) (1.4.4)\n",
            "Requirement already satisfied: chardet<4,>=3.0.2 in /usr/local/lib/python3.8/dist-packages (from requests->visdom==0.1.8.9->-r /content/Real-Time-Voice-Cloning/requirements.txt (line 15)) (3.0.4)\n",
            "Collecting requests\n",
            "  Downloading requests-2.28.1-py3-none-any.whl (62 kB)\n",
            "\u001b[K     |████████████████████████████████| 62 kB 1.7 MB/s \n",
            "\u001b[?25hRequirement already satisfied: certifi>=2017.4.17 in /usr/local/lib/python3.8/dist-packages (from requests->visdom==0.1.8.9->-r /content/Real-Time-Voice-Cloning/requirements.txt (line 15)) (2022.9.24)\n",
            "Requirement already satisfied: idna<4,>=2.5 in /usr/local/lib/python3.8/dist-packages (from requests->visdom==0.1.8.9->-r /content/Real-Time-Voice-Cloning/requirements.txt (line 15)) (2.10)\n",
            "Requirement already satisfied: charset-normalizer<3,>=2 in /usr/local/lib/python3.8/dist-packages (from requests->visdom==0.1.8.9->-r /content/Real-Time-Voice-Cloning/requirements.txt (line 15)) (2.1.1)\n",
            "Requirement already satisfied: zipp>=0.5 in /usr/local/lib/python3.8/dist-packages (from importlib-metadata->numba>=0.43.0->librosa==0.8.1->-r /content/Real-Time-Voice-Cloning/requirements.txt (line 2)) (3.10.0)\n",
            "Collecting jsonpointer>=1.9\n",
            "  Downloading jsonpointer-2.3-py2.py3-none-any.whl (7.8 kB)\n",
            "Building wheels for collected packages: umap-learn, visdom, webrtcvad, pynndescent, torchfile\n",
            "  Building wheel for umap-learn (setup.py) ... \u001b[?25l\u001b[?25hdone\n",
            "  Created wheel for umap-learn: filename=umap_learn-0.5.2-py3-none-any.whl size=82708 sha256=bc2e3cf07f0c7d9532af96e7aa0f5bcbde24e8c7fa3103982f0050db8be9a73b\n",
            "  Stored in directory: /root/.cache/pip/wheels/f2/64/75/df601da9514261c8cb0830b9515d2b94b5a51f09ddeae92b9e\n",
            "  Building wheel for visdom (setup.py) ... \u001b[?25l\u001b[?25hdone\n",
            "  Created wheel for visdom: filename=visdom-0.1.8.9-py3-none-any.whl size=655249 sha256=1d65a184bfd237d930d8d4eb0ed9da38ecf0aae067a5bca495b8a5185dcc01e3\n",
            "  Stored in directory: /root/.cache/pip/wheels/6e/f5/76/7906cebf407d8dbf3b26cb28800b7d3b486ae7e7c8859a5748\n",
            "  Building wheel for webrtcvad (setup.py) ... \u001b[?25l\u001b[?25hdone\n",
            "  Created wheel for webrtcvad: filename=webrtcvad-2.0.10-cp38-cp38-linux_x86_64.whl size=71543 sha256=4b153f48f48a9785fbd9e60da2daf2dde163bf4e5c0d3986478668e962591712\n",
            "  Stored in directory: /root/.cache/pip/wheels/75/e1/fc/01099a9fd0882ce84cc99eb51495812bb8a703461c2b0ca1cb\n",
            "  Building wheel for pynndescent (setup.py) ... \u001b[?25l\u001b[?25hdone\n",
            "  Created wheel for pynndescent: filename=pynndescent-0.5.8-py3-none-any.whl size=55513 sha256=f9f77644575e94f43a21d9adca26b5c9b304cd1b5f5a5dbeffd032e2d1c46f85\n",
            "  Stored in directory: /root/.cache/pip/wheels/1c/63/3a/29954bca1a27ba100ed8c27973a78cb71b43dc67aed62e80c3\n",
            "  Building wheel for torchfile (setup.py) ... \u001b[?25l\u001b[?25hdone\n",
            "  Created wheel for torchfile: filename=torchfile-0.1.0-py3-none-any.whl size=5710 sha256=51f100f8f87dd52b6797685e825a57cbab6bda996d416c2e7e01a89b9389614d\n",
            "  Stored in directory: /root/.cache/pip/wheels/b9/99/d1/9f3f4411a958a22ccf782e33c7238a07f04a9597f2f3b38792\n",
            "Successfully built umap-learn visdom webrtcvad pynndescent torchfile\n",
            "Installing collected packages: numpy, urllib3, requests, jsonpointer, websocket-client, tqdm, torchfile, SoundFile, PyQt5-sip, PyQt5-Qt5, pynndescent, Pillow, jsonpatch, fonttools, webrtcvad, visdom, Unidecode, umap-learn, sounddevice, PyQt5, matplotlib, inflect\n",
            "  Attempting uninstall: numpy\n",
            "    Found existing installation: numpy 1.21.6\n",
            "    Uninstalling numpy-1.21.6:\n",
            "      Successfully uninstalled numpy-1.21.6\n",
            "  Attempting uninstall: urllib3\n",
            "    Found existing installation: urllib3 1.24.3\n",
            "    Uninstalling urllib3-1.24.3:\n",
            "      Successfully uninstalled urllib3-1.24.3\n",
            "  Attempting uninstall: requests\n",
            "    Found existing installation: requests 2.23.0\n",
            "    Uninstalling requests-2.23.0:\n",
            "      Successfully uninstalled requests-2.23.0\n",
            "  Attempting uninstall: tqdm\n",
            "    Found existing installation: tqdm 4.64.1\n",
            "    Uninstalling tqdm-4.64.1:\n",
            "      Successfully uninstalled tqdm-4.64.1\n",
            "  Attempting uninstall: SoundFile\n",
            "    Found existing installation: soundfile 0.11.0\n",
            "    Uninstalling soundfile-0.11.0:\n",
            "      Successfully uninstalled soundfile-0.11.0\n",
            "  Attempting uninstall: Pillow\n",
            "    Found existing installation: Pillow 7.1.2\n",
            "    Uninstalling Pillow-7.1.2:\n",
            "      Successfully uninstalled Pillow-7.1.2\n",
            "  Attempting uninstall: matplotlib\n",
            "    Found existing installation: matplotlib 3.2.2\n",
            "    Uninstalling matplotlib-3.2.2:\n",
            "      Successfully uninstalled matplotlib-3.2.2\n",
            "  Attempting uninstall: inflect\n",
            "    Found existing installation: inflect 2.1.0\n",
            "    Uninstalling inflect-2.1.0:\n",
            "      Successfully uninstalled inflect-2.1.0\n",
            "\u001b[31mERROR: pip's dependency resolver does not currently take into account all the packages that are installed. This behaviour is the source of the following dependency conflicts.\n",
            "xarray-einstats 0.2.2 requires numpy>=1.21, but you have numpy 1.20.3 which is incompatible.\n",
            "cmdstanpy 1.0.8 requires numpy>=1.21, but you have numpy 1.20.3 which is incompatible.\u001b[0m\n",
            "Successfully installed Pillow-8.4.0 PyQt5-5.15.6 PyQt5-Qt5-5.15.2 PyQt5-sip-12.11.0 SoundFile-0.10.3.post1 Unidecode-1.3.2 fonttools-4.38.0 inflect-5.3.0 jsonpatch-1.32 jsonpointer-2.3 matplotlib-3.5.1 numpy-1.20.3 pynndescent-0.5.8 requests-2.28.1 sounddevice-0.4.3 torchfile-0.1.0 tqdm-4.62.3 umap-learn-0.5.2 urllib3-1.26.7 visdom-0.1.8.9 webrtcvad-2.0.10 websocket-client-1.4.2\n"
          ]
        },
        {
          "output_type": "display_data",
          "data": {
            "application/vnd.colab-display-data+json": {
              "pip_warning": {
                "packages": [
                  "PIL",
                  "matplotlib",
                  "mpl_toolkits",
                  "numpy"
                ]
              }
            }
          },
          "metadata": {}
        }
      ]
    },
    {
      "cell_type": "code",
      "source": [
        "!apt install ffmpeg"
      ],
      "metadata": {
        "colab": {
          "base_uri": "https://localhost:8080/"
        },
        "id": "GLS0IQc-_TTI",
        "outputId": "d415de12-5004-4576-be97-3fa7f918a182"
      },
      "execution_count": null,
      "outputs": [
        {
          "output_type": "stream",
          "name": "stdout",
          "text": [
            "Reading package lists... Done\n",
            "Building dependency tree       \n",
            "Reading state information... Done\n",
            "ffmpeg is already the newest version (7:3.4.11-0ubuntu0.1).\n",
            "The following package was automatically installed and is no longer required:\n",
            "  libnvidia-common-460\n",
            "Use 'apt autoremove' to remove it.\n",
            "0 upgraded, 0 newly installed, 0 to remove and 7 not upgraded.\n"
          ]
        }
      ]
    },
    {
      "cell_type": "code",
      "source": [
        "!python /content/Real-Time-Voice-Cloning/demo_cli.py"
      ],
      "metadata": {
        "colab": {
          "base_uri": "https://localhost:8080/"
        },
        "id": "dNMVLXC2EAMX",
        "outputId": "f940fee8-2b8d-4588-c5a3-17d039d7f0cd"
      },
      "execution_count": null,
      "outputs": [
        {
          "output_type": "stream",
          "name": "stdout",
          "text": [
            "Arguments:\n",
            "    enc_model_fpath:   saved_models/default/encoder.pt\n",
            "    syn_model_fpath:   saved_models/default/synthesizer.pt\n",
            "    voc_model_fpath:   saved_models/default/vocoder.pt\n",
            "    cpu:               False\n",
            "    no_sound:          False\n",
            "    seed:              None\n",
            "\n",
            "Running a test of your configuration...\n",
            "\n",
            "Found 1 GPUs available. Using GPU 0 (Tesla T4) of compute capability 7.5 with 15.8Gb total memory.\n",
            "\n",
            "Preparing the encoder, the synthesizer and the vocoder...\n",
            "Loaded encoder \"encoder.pt\" trained to step 1564501\n",
            "Synthesizer using device: cuda\n",
            "Building Wave-RNN\n",
            "Trainable Parameters: 4.481M\n",
            "Loading model weights at saved_models/default/vocoder.pt\n",
            "Testing your configuration with small inputs.\n",
            "\tTesting the encoder...\n",
            "\tTesting the synthesizer... (loading the model will output a lot of text)\n",
            "Trainable Parameters: 30.870M\n",
            "Loaded synthesizer \"synthesizer.pt\" trained to step 295000\n",
            "\n",
            "| Generating 1/1\n",
            "\n",
            "\n",
            "Done.\n",
            "\n",
            "\tTesting the vocoder...\n",
            "All test passed! You can now synthesize speech.\n",
            "\n",
            "\n",
            "This is a GUI-less example of interface to SV2TTS. The purpose of this script is to show how you can interface this project easily with your own. See the source code for an explanation of what is happening.\n",
            "\n",
            "Interactive generation loop\n",
            "Reference voice: enter an audio filepath of a voice to be cloned (mp3, wav, m4a, flac, ...):\n",
            "/content/drive/MyDrive/Interactly lady voice.mp3\n",
            "/usr/local/lib/python3.8/dist-packages/librosa/core/audio.py:165: UserWarning: PySoundFile failed. Trying audioread instead.\n",
            "  warnings.warn(\"PySoundFile failed. Trying audioread instead.\")\n",
            "/usr/local/lib/python3.8/dist-packages/librosa/core/audio.py:165: UserWarning: PySoundFile failed. Trying audioread instead.\n",
            "  warnings.warn(\"PySoundFile failed. Trying audioread instead.\")\n",
            "Loaded file succesfully\n",
            "Created the embedding\n",
            "Write a sentence (+-20 words) to be synthesized:\n",
            "“Hi, welcome to Interactly, a no coding interactive video creation platform to create the personalized video experiences.\n",
            "\n",
            "| Generating 1/1\n",
            "\n",
            "\n",
            "Done.\n",
            "\n",
            "Created the mel spectrogram\n",
            "Synthesizing the waveform:\n",
            "{| ████████████████ 133000/134400 | Batch Size: 14 | Gen Rate: 15.1kHz | }\n",
            "Caught exception: PortAudioError('Error querying device -1')\n",
            "Continuing without audio playback. Suppress this message with the \"--no_sound\" flag.\n",
            "\n",
            "float64\n",
            "\n",
            "Saved output as demo_output_00.wav\n",
            "\n",
            "\n",
            "Reference voice: enter an audio filepath of a voice to be cloned (mp3, wav, m4a, flac, ...):\n",
            "/content/drive/MyDrive/Audio - Priyanka Chopra.mp3\n",
            "/usr/local/lib/python3.8/dist-packages/librosa/core/audio.py:165: UserWarning: PySoundFile failed. Trying audioread instead.\n",
            "  warnings.warn(\"PySoundFile failed. Trying audioread instead.\")\n",
            "/usr/local/lib/python3.8/dist-packages/librosa/core/audio.py:165: UserWarning: PySoundFile failed. Trying audioread instead.\n",
            "  warnings.warn(\"PySoundFile failed. Trying audioread instead.\")\n",
            "Loaded file succesfully\n",
            "Created the embedding\n",
            "Write a sentence (+-20 words) to be synthesized:\n",
            "“Hi, welcome to Interactly, a no coding interactive video creation platform to create the personalized video experiences.\n",
            "\n",
            "| Generating 1/1\n",
            "\n",
            "\n",
            "Done.\n",
            "\n",
            "Created the mel spectrogram\n",
            "Synthesizing the waveform:\n",
            "{| ████████████████ 142500/144000 | Batch Size: 15 | Gen Rate: 16.2kHz | }\n",
            "Caught exception: PortAudioError('Error querying device -1')\n",
            "Continuing without audio playback. Suppress this message with the \"--no_sound\" flag.\n",
            "\n",
            "float64\n",
            "\n",
            "Saved output as demo_output_01.wav\n",
            "\n",
            "\n",
            "Reference voice: enter an audio filepath of a voice to be cloned (mp3, wav, m4a, flac, ...):\n",
            "\n",
            "^C\n"
          ]
        }
      ]
    },
    {
      "cell_type": "code",
      "source": [
        "!sudo apt-get install libportaudio2"
      ],
      "metadata": {
        "id": "hlPHG69COT4b",
        "colab": {
          "base_uri": "https://localhost:8080/"
        },
        "outputId": "b9264d49-fb72-4858-e4b3-997afe4cfac8"
      },
      "execution_count": null,
      "outputs": [
        {
          "output_type": "stream",
          "name": "stdout",
          "text": [
            "Reading package lists... Done\n",
            "Building dependency tree       \n",
            "Reading state information... Done\n",
            "The following package was automatically installed and is no longer required:\n",
            "  libnvidia-common-460\n",
            "Use 'sudo apt autoremove' to remove it.\n",
            "The following NEW packages will be installed:\n",
            "  libportaudio2\n",
            "0 upgraded, 1 newly installed, 0 to remove and 7 not upgraded.\n",
            "Need to get 64.6 kB of archives.\n",
            "After this operation, 215 kB of additional disk space will be used.\n",
            "Get:1 http://archive.ubuntu.com/ubuntu bionic/universe amd64 libportaudio2 amd64 19.6.0-1 [64.6 kB]\n",
            "Fetched 64.6 kB in 0s (174 kB/s)\n",
            "debconf: unable to initialize frontend: Dialog\n",
            "debconf: (No usable dialog-like program is installed, so the dialog based frontend cannot be used. at /usr/share/perl5/Debconf/FrontEnd/Dialog.pm line 76, <> line 1.)\n",
            "debconf: falling back to frontend: Readline\n",
            "debconf: unable to initialize frontend: Readline\n",
            "debconf: (This frontend requires a controlling tty.)\n",
            "debconf: falling back to frontend: Teletype\n",
            "dpkg-preconfigure: unable to re-open stdin: \n",
            "Selecting previously unselected package libportaudio2:amd64.\n",
            "(Reading database ... 124015 files and directories currently installed.)\n",
            "Preparing to unpack .../libportaudio2_19.6.0-1_amd64.deb ...\n",
            "Unpacking libportaudio2:amd64 (19.6.0-1) ...\n",
            "Setting up libportaudio2:amd64 (19.6.0-1) ...\n",
            "Processing triggers for libc-bin (2.27-3ubuntu1.6) ...\n"
          ]
        }
      ]
    },
    {
      "cell_type": "code",
      "source": [],
      "metadata": {
        "id": "M5kznLZ1VYOB"
      },
      "execution_count": null,
      "outputs": []
    }
  ]
}